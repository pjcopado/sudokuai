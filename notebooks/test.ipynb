{
 "cells": [
  {
   "cell_type": "code",
   "execution_count": 1,
   "id": "32f6310c",
   "metadata": {},
   "outputs": [],
   "source": [
    "%load_ext autoreload\n",
    "%autoreload 2"
   ]
  },
  {
   "cell_type": "code",
   "execution_count": 2,
   "id": "77736129",
   "metadata": {},
   "outputs": [],
   "source": [
    "from sudokuai import solver, utils"
   ]
  },
  {
   "cell_type": "code",
   "execution_count": 3,
   "id": "2e026988",
   "metadata": {},
   "outputs": [
    {
     "data": {
      "text/plain": [
       "array([[7, 0, 0, 0, 0, 0, 0, 0, 0],\n",
       "       [0, 0, 0, 0, 0, 0, 0, 0, 0],\n",
       "       [0, 0, 0, 0, 0, 0, 0, 0, 0],\n",
       "       [0, 0, 0, 0, 0, 0, 0, 0, 0],\n",
       "       [0, 0, 0, 0, 0, 0, 0, 0, 0],\n",
       "       [0, 0, 0, 0, 0, 0, 0, 0, 0],\n",
       "       [0, 0, 0, 0, 0, 0, 0, 0, 0],\n",
       "       [0, 0, 0, 0, 0, 0, 0, 0, 0],\n",
       "       [1, 0, 0, 0, 0, 0, 0, 0, 0]])"
      ]
     },
     "execution_count": 3,
     "metadata": {},
     "output_type": "execute_result"
    }
   ],
   "source": [
    "empty_board = solver.board_zeroes\n",
    "empty_board"
   ]
  },
  {
   "cell_type": "code",
   "execution_count": 4,
   "id": "75685989",
   "metadata": {},
   "outputs": [
    {
     "name": "stdout",
     "output_type": "stream",
     "text": [
      "7 0 0 | 0 0 0 | 0 0 0 \n",
      "0 0 0 | 0 0 0 | 0 0 0 \n",
      "0 0 0 | 0 0 0 | 0 0 0 \n",
      "----------------------\n",
      "0 0 0 | 0 0 0 | 0 0 0 \n",
      "0 0 0 | 0 0 0 | 0 0 0 \n",
      "0 0 0 | 0 0 0 | 0 0 0 \n",
      "----------------------\n",
      "0 0 0 | 0 0 0 | 0 0 0 \n",
      "0 0 0 | 0 0 0 | 0 0 0 \n",
      "1 0 0 | 0 0 0 | 0 0 0 \n"
     ]
    }
   ],
   "source": [
    "utils.board_print(empty_board)"
   ]
  },
  {
   "cell_type": "code",
   "execution_count": 5,
   "id": "f0ba7292",
   "metadata": {},
   "outputs": [
    {
     "data": {
      "text/plain": [
       "array([[1, 2, 3, 4, 5, 6, 7, 8, 9],\n",
       "       [4, 5, 6, 7, 8, 9, 1, 2, 3],\n",
       "       [7, 8, 9, 1, 2, 3, 4, 5, 6],\n",
       "       [2, 3, 4, 5, 6, 7, 8, 9, 1],\n",
       "       [5, 6, 7, 8, 9, 1, 2, 3, 4],\n",
       "       [8, 9, 1, 2, 3, 4, 5, 6, 7],\n",
       "       [3, 4, 5, 6, 7, 8, 9, 1, 2],\n",
       "       [6, 7, 8, 9, 1, 2, 3, 4, 5],\n",
       "       [9, 1, 2, 3, 4, 5, 6, 7, 8]])"
      ]
     },
     "execution_count": 5,
     "metadata": {},
     "output_type": "execute_result"
    }
   ],
   "source": [
    "test = solver.test\n",
    "test"
   ]
  },
  {
   "cell_type": "code",
   "execution_count": 6,
   "id": "b830d859",
   "metadata": {},
   "outputs": [
    {
     "name": "stdout",
     "output_type": "stream",
     "text": [
      "1 2 3 | 4 5 6 | 7 8 9 \n",
      "4 5 6 | 7 8 9 | 1 2 3 \n",
      "7 8 9 | 1 2 3 | 4 5 6 \n",
      "----------------------\n",
      "2 3 4 | 5 6 7 | 8 9 1 \n",
      "5 6 7 | 8 9 1 | 2 3 4 \n",
      "8 9 1 | 2 3 4 | 5 6 7 \n",
      "----------------------\n",
      "3 4 5 | 6 7 8 | 9 1 2 \n",
      "6 7 8 | 9 1 2 | 3 4 5 \n",
      "9 1 2 | 3 4 5 | 6 7 8 \n"
     ]
    }
   ],
   "source": [
    "utils.board_print(test)"
   ]
  },
  {
   "cell_type": "code",
   "execution_count": 7,
   "id": "ede9efbf",
   "metadata": {},
   "outputs": [
    {
     "data": {
      "text/plain": [
       "True"
      ]
     },
     "execution_count": 7,
     "metadata": {},
     "output_type": "execute_result"
    }
   ],
   "source": [
    "solver.check_solution(test)"
   ]
  },
  {
   "cell_type": "code",
   "execution_count": 8,
   "id": "6f07edbb",
   "metadata": {},
   "outputs": [],
   "source": [
    "#solver.solve(empty_board)"
   ]
  },
  {
   "cell_type": "code",
   "execution_count": 9,
   "id": "e72b8d7e",
   "metadata": {},
   "outputs": [
    {
     "data": {
      "text/plain": [
       "(0, 1)"
      ]
     },
     "execution_count": 9,
     "metadata": {},
     "output_type": "execute_result"
    }
   ],
   "source": [
    "solver.next_empty(empty_board)"
   ]
  },
  {
   "cell_type": "code",
   "execution_count": 10,
   "id": "5c319863",
   "metadata": {},
   "outputs": [
    {
     "data": {
      "text/plain": [
       "True"
      ]
     },
     "execution_count": 10,
     "metadata": {},
     "output_type": "execute_result"
    }
   ],
   "source": [
    "solver.solve(empty_board)"
   ]
  },
  {
   "cell_type": "code",
   "execution_count": 11,
   "id": "df475621",
   "metadata": {},
   "outputs": [
    {
     "name": "stdout",
     "output_type": "stream",
     "text": [
      "7 1 2 | 3 4 5 | 6 8 9 \n",
      "3 4 5 | 6 8 9 | 1 2 7 \n",
      "6 8 9 | 1 2 7 | 3 4 5 \n",
      "----------------------\n",
      "2 3 1 | 4 5 6 | 7 9 8 \n",
      "4 5 6 | 7 9 8 | 2 1 3 \n",
      "8 9 7 | 2 1 3 | 4 5 6 \n",
      "----------------------\n",
      "5 2 3 | 8 6 1 | 9 7 4 \n",
      "9 6 4 | 5 7 2 | 8 3 1 \n",
      "1 7 8 | 9 3 4 | 5 6 2 \n"
     ]
    }
   ],
   "source": [
    "utils.board_print(empty_board)"
   ]
  },
  {
   "cell_type": "code",
   "execution_count": null,
   "id": "b598c660",
   "metadata": {},
   "outputs": [],
   "source": []
  }
 ],
 "metadata": {
  "kernelspec": {
   "display_name": "Python 3 (ipykernel)",
   "language": "python",
   "name": "python3"
  },
  "language_info": {
   "codemirror_mode": {
    "name": "ipython",
    "version": 3
   },
   "file_extension": ".py",
   "mimetype": "text/x-python",
   "name": "python",
   "nbconvert_exporter": "python",
   "pygments_lexer": "ipython3",
   "version": "3.8.12"
  },
  "toc": {
   "base_numbering": 1,
   "nav_menu": {},
   "number_sections": true,
   "sideBar": true,
   "skip_h1_title": false,
   "title_cell": "Table of Contents",
   "title_sidebar": "Contents",
   "toc_cell": false,
   "toc_position": {},
   "toc_section_display": true,
   "toc_window_display": false
  }
 },
 "nbformat": 4,
 "nbformat_minor": 5
}
